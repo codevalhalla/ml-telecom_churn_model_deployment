{
 "cells": [
  {
   "cell_type": "code",
   "execution_count": 8,
   "id": "b11d6629-dce6-4092-9b8c-4a9a524be2be",
   "metadata": {},
   "outputs": [
    {
     "data": {
      "application/javascript": [
       "IPython.notebook.set_autosave_interval(0)"
      ]
     },
     "metadata": {},
     "output_type": "display_data"
    },
    {
     "name": "stdout",
     "output_type": "stream",
     "text": [
      "Autosave disabled\n"
     ]
    }
   ],
   "source": [
    "%autosave 0"
   ]
  },
  {
   "cell_type": "code",
   "execution_count": 57,
   "id": "c42a77c8-7acb-4dd7-862e-46ef3dba38a1",
   "metadata": {},
   "outputs": [],
   "source": [
    "import requests"
   ]
  },
  {
   "cell_type": "code",
   "execution_count": 58,
   "id": "fa2b89b0-e99b-4fb5-b381-6401bb9c6df3",
   "metadata": {},
   "outputs": [],
   "source": [
    "url='http://localhost:9696/predict'"
   ]
  },
  {
   "cell_type": "code",
   "execution_count": 59,
   "id": "da3f0910-09a8-4ee6-8577-2d2a4da9324c",
   "metadata": {},
   "outputs": [],
   "source": [
    "customer = {\n",
    "    \n",
    "    \"gender\": \"female\",\n",
    "    \"seniorcitizen\": 0,\n",
    "    \"partner\": \"yes\",\n",
    "    \"dependents\": \"no\",\n",
    "    \"phoneservice\": \"no\",\n",
    "    \"multiplelines\": \"no_phone\",\n",
    "    \"internetservice\": \"dsl\",\n",
    "    \"onlinesecurity\": \"no\",\n",
    "    \"onlinebackup\": \"yes\",\n",
    "    \"deviceprotection\": \"no\",\n",
    "    \"techsupport\": \"no\",\n",
    "    \"streamingtv\": \"no\",\n",
    "    \"streamingmovies\": \"no\",\n",
    "    \"contract\": \"month-to-month\",\n",
    "    \"paperlessbilling\": \"yes\",\n",
    "    \"paymentmethod\": \"electronic_check\",\n",
    "    \"tenure\": 24,\n",
    "    \"monthlycharges\": 29.85,\n",
    "    \"totalcharges\": 29.85\n",
    "}\n"
   ]
  },
  {
   "cell_type": "code",
   "execution_count": 60,
   "id": "052dccac-14e2-4717-b58f-84fd8880f622",
   "metadata": {},
   "outputs": [],
   "source": [
    "response = requests.post(url,json=customer).json()"
   ]
  },
  {
   "cell_type": "code",
   "execution_count": 61,
   "id": "683995ce-46d5-47fd-9610-9256e0ab3c93",
   "metadata": {},
   "outputs": [],
   "source": [
    "if response['churn']:\n",
    "    print('send promotional email')"
   ]
  },
  {
   "cell_type": "code",
   "execution_count": 62,
   "id": "1b355ad9-ade8-4fcc-b134-b9e363d06a89",
   "metadata": {},
   "outputs": [
    {
     "data": {
      "text/plain": [
       "<Response [200]>"
      ]
     },
     "execution_count": 62,
     "metadata": {},
     "output_type": "execute_result"
    }
   ],
   "source": [
    "response = requests.post(url,json=customer)\n",
    "response"
   ]
  },
  {
   "cell_type": "code",
   "execution_count": null,
   "id": "ae297c58-43df-4775-9d61-dd4de8f88cfa",
   "metadata": {},
   "outputs": [],
   "source": []
  }
 ],
 "metadata": {
  "kernelspec": {
   "display_name": "Python 3 (ipykernel)",
   "language": "python",
   "name": "python3"
  },
  "language_info": {
   "codemirror_mode": {
    "name": "ipython",
    "version": 3
   },
   "file_extension": ".py",
   "mimetype": "text/x-python",
   "name": "python",
   "nbconvert_exporter": "python",
   "pygments_lexer": "ipython3",
   "version": "3.13.7"
  },
  "widgets": {
   "application/vnd.jupyter.widget-state+json": {
    "state": {},
    "version_major": 2,
    "version_minor": 0
   }
  }
 },
 "nbformat": 4,
 "nbformat_minor": 5
}
